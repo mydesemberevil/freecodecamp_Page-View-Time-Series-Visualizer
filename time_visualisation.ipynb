{
  "nbformat": 4,
  "nbformat_minor": 0,
  "metadata": {
    "colab": {
      "provenance": [],
      "toc_visible": true,
      "authorship_tag": "ABX9TyO9ofYRMSHwdbhbQWSXiQJD",
      "include_colab_link": true
    },
    "kernelspec": {
      "name": "python3",
      "display_name": "Python 3"
    },
    "language_info": {
      "name": "python"
    }
  },
  "cells": [
    {
      "cell_type": "markdown",
      "metadata": {
        "id": "view-in-github",
        "colab_type": "text"
      },
      "source": [
        "<a href=\"https://colab.research.google.com/github/mydesemberevil/freecodecamp_Page-View-Time-Series-Visualizer/blob/main/time_visualisation.ipynb\" target=\"_parent\"><img src=\"https://colab.research.google.com/assets/colab-badge.svg\" alt=\"Open In Colab\"/></a>"
      ]
    },
    {
      "cell_type": "code",
      "execution_count": null,
      "metadata": {
        "id": "PJXJK8oF6v1m"
      },
      "outputs": [],
      "source": [
        "import matplotlib.pyplot as plt\n",
        "import pandas as pd\n",
        "import seaborn as sns\n",
        "from pandas.plotting import register_matplotlib_converters\n",
        "register_matplotlib_converters()\n",
        "\n",
        "# Import data (Make sure to parse dates. Consider setting index column to 'date'.)\n",
        "df = pd.read_csv(\"fcc-forum-pageviews.csv\")\n",
        "df[\"date\"] = pd.to_datetime(df[\"date\"])\n",
        "df = df.set_index('date')\n",
        "\n",
        "# Clean data\n",
        "df = df.loc[(df['value'] >= df['value'].quantile(0.025)) & (df['value'] <= df['value'].quantile(0.975))]\n",
        "\n",
        "\n",
        "def draw_line_plot():\n",
        "    # Draw line plot\n",
        "    fig, ax = plt.subplots(figsize=(32, 10), dpi=100)\n",
        "    ax.set_title(\"Daily freeCodeCamp Forum Page Views 5/2016-12/2019\")\n",
        "    ax.set_xlabel(\"Date\")\n",
        "    ax.set_ylabel(\"Page Views\")\n",
        "    sns.lineplot(data=df, legend=False)\n",
        "\n",
        "    # Save image and return fig (don't change this part)\n",
        "    fig.savefig('line_plot.png')\n",
        "    return fig\n",
        "\n",
        "def draw_bar_plot():\n",
        "    # Copy and modify data for monthly bar plot\n",
        "    df_bar = df.copy()\n",
        "    df_bar[\"Years\"] = df_bar.index.year\n",
        "    df_bar[\"Months\"] = df_bar.index.month_name()\n",
        "    df_bar = pd.DataFrame(df_bar.groupby([\"Years\", \"Months\"], sort=False)[\"value\"].mean().round().astype(int))\n",
        "    df_bar = df_bar.rename(columns={\"value\": \"Average Page Views\"})\n",
        "    df_bar = df_bar.reset_index()\n",
        "    missing_data = {\n",
        "        \"Years\": [2016, 2016, 2016, 2016],\n",
        "        \"Months\": ['January', 'February', 'March', 'April'],\n",
        "        \"Average Page Views\": [0, 0, 0, 0]\n",
        "    }\n",
        "\n",
        "    df_bar = pd.concat([pd.DataFrame(missing_data), df_bar])\n",
        "\n",
        "    # Draw bar plot\n",
        "    fig, ax = plt.subplots(figsize=(19.2, 10.8), dpi=100)\n",
        "    ax.set_title(\"Daily freeCodeCamp Forum Average Page Views per Month\")\n",
        "\n",
        "    chart = sns.barplot(data=df_bar, x=\"Years\", y=\"Average Page Views\", hue=\"Months\", palette=\"tab10\")\n",
        "    chart.set_xticklabels(chart.get_xticklabels(), rotation=90, horizontalalignment='center')\n",
        "\n",
        "    # Save image and return fig (don't change this part)\n",
        "    fig.savefig('bar_plot.png')\n",
        "    return fig\n",
        "\n",
        "def draw_box_plot():\n",
        "    # Prepare data for box plots (this part is done!)\n",
        "    df_box = df.copy()\n",
        "    df_box.reset_index(inplace=True)\n",
        "    df_box['year'] = [d.year for d in df_box.date]\n",
        "    df_box['month'] = [d.strftime('%b') for d in df_box.date]\n",
        "\n",
        "    # Draw box plots (using Seaborn)\n",
        "    fig, axes = plt.subplots(1, 2, figsize=(32, 10), dpi=100)\n",
        "\n",
        "    # Yearly boxplot\n",
        "    sns.boxplot(data=df_box, x=\"year\", y=\"value\", ax=axes[0])\n",
        "    axes[0].set_title(\"Year-wise Box Plot (Trend)\")\n",
        "    axes[0].set_xlabel(\"Year\")\n",
        "    axes[0].set_ylabel(\"Page Views\")\n",
        "\n",
        "    # Monthly boxplot\n",
        "    month_order = [\"Jan\", \"Feb\", \"Mar\", \"Apr\", \"May\", \"Jun\", \"Jul\", \"Aug\", \"Sep\", \"Oct\", \"Nov\", \"Dec\"]\n",
        "    sns.boxplot(data=df_box, x=\"month\", y=\"value\", order=month_order, ax=axes[1])\n",
        "    axes[1].set_title(\"Month-wise Box Plot (Seasonality)\")\n",
        "    axes[1].set_xlabel(\"Month\")\n",
        "    axes[1].set_ylabel(\"Page Views\")\n",
        "\n",
        "    # Save image and return fig (don't change this part)\n",
        "    fig.savefig('box_plot.png')\n",
        "    return fig"
      ]
    }
  ]
}